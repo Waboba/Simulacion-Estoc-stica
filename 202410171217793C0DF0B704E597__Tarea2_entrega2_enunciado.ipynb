{
  "cells": [
    {
      "cell_type": "markdown",
      "metadata": {
        "cell_id": "a3b7268fad024e1f963db91e97e4dd19",
        "deepnote_cell_type": "markdown",
        "id": "lzF0mWBmCmta"
      },
      "source": [
        "### MA3402 Estadística\n",
        "## Tarea 2, Entrega 2: Test de hipótesis.\n",
        "\n",
        "**Profesor:** Joaquín Fontbona T.\n",
        "**Auxiliares:** Javier Maass, Francisco Muñoz y Diego Olguín."
      ]
    },
    {
      "cell_type": "markdown",
      "metadata": {
        "cell_id": "31e2aeb5a86a4be4aa3ec5b5db5b3c48",
        "deepnote_cell_type": "markdown",
        "id": "JMrz9O2uCmtf"
      },
      "source": [
        "### Partamos por el principio"
      ]
    },
    {
      "cell_type": "markdown",
      "metadata": {
        "cell_id": "a7e2b1bb4349497eaeafd78a9b1e207d",
        "deepnote_cell_type": "markdown",
        "id": "HQRSEJKTCmth"
      },
      "source": [
        "Los test de hipótesis estadísticos se basan en una declaración llamada hipótesis nula que asume que no está ocurriendo nada interesante entre las variables que estamos probando. La forma exacta de la hipótesis nula varía de un tipo de prueba a otro: si estás probando si los grupos son diferentes, la hipótesis nula afirma que los grupos son iguales. Por ejemplo, si quisieras probar si la edad promedio de los votantes en tu estado de origen difiere de la edad promedio nacional, la hipótesis nula sería que no hay diferencia entre las edades promedio.\n",
        "\n",
        "El propósito de un test de hipótesis es determinar si la hipótesis nula es probable que sea verdadera dado ciertos datos de muestra. Si hay poca evidencia en contra de la hipótesis nula dada la información, aceptas la hipótesis nula. Si la hipótesis nula es improbable dada la información, podrías rechazar la hipótesis nula a favor de la hipótesis alternativa: que está ocurriendo algo interesante. La forma exacta de la hipótesis alternativa dependerá de la prueba específica que estés llevando a cabo. Siguiendo con el ejemplo anterior, la hipótesis alternativa sería que la edad promedio de los votantes en tu estado realmente difiere de la edad promedio nacional.\n",
        "\n",
        "Una vez que se tienen la hipótesis nula y la hipótesis alternativa, se debe elegir un nivel de significancia (a menudo denotado por $\\alpha$). El nivel de significancia es un umbral de probabilidad que determina cuándo rechazar la hipótesis nula. Después de realizar un test, si la probabilidad de obtener un resultado tan extremo como el que observas debido al azar es menor que el nivel de significancia, rechazas la hipótesis nula a favor de la hipótesis alternativa. Esta probabilidad de ver un resultado tan extremo o más extremo que el observado se conoce como el *p value*.\n",
        "\n",
        "El tipo de test en el que centraremos esta tarea será el test de *t*, que es utilizado para determinar si una muestra de datos numéricos difiere significativamente de la población o si dos muestras difieren entre sí."
      ]
    },
    {
      "cell_type": "markdown",
      "metadata": {
        "cell_id": "8bfee5e3886f4180941f898d8d3c06b3",
        "deepnote_cell_type": "markdown",
        "id": "6EOiBHErCmtl"
      },
      "source": [
        "### Datos a utilizar"
      ]
    },
    {
      "cell_type": "markdown",
      "metadata": {
        "cell_id": "8685103e8e384f5d9006992bf70fc9af",
        "deepnote_cell_type": "markdown",
        "id": "_rT3RxszCmtm"
      },
      "source": [
        "Trabajaremos simulando datos para votantes de Estados Unidos. En la siguiente celda se crean algunos datos ficticios de edades para la población de votantes en todo el Estados Unidos y una muestra de votantes en Minnesota, y probemos si la edad promedio de los votantes de Minnesota difiere de la población."
      ]
    },
    {
      "cell_type": "code",
      "metadata": {
        "source_hash": null,
        "execution_start": 1696470217836,
        "execution_millis": 618,
        "deepnote_to_be_reexecuted": false,
        "cell_id": "9039a01b8056465ba40f3f3d999ec10b",
        "deepnote_cell_type": "code",
        "id": "I9XSy85FCmto",
        "outputId": "0af2311e-14a4-403d-9135-c314b05a5bc5"
      },
      "source": [
        "set.seed(12) # Para temas de replicabilidad, fijaremos una semilla\n",
        "\n",
        "# Datos simulados para diferentes grupo etarios\n",
        "population_ages <- c(\n",
        "    rexp(1000000,0.015)+18,\n",
        "    rpois(500000,20)+18,\n",
        "    rpois(500000,32.5)+18,\n",
        "    rpois(500000,45)+18\n",
        ")\n",
        "\n",
        "# Mantendremos a la población menor a 100 años\n",
        "population_ages <- ifelse(\n",
        "    population_ages<100, population_ages,\n",
        "    population_ages%%100+18\n",
        ")\n",
        "\n",
        "\n",
        "true_mean <- mean(population_ages)  # Guardaremos la media real\n",
        "print(\"Media real de toda la población:\")\n",
        "true_mean\n",
        "\n",
        "# Sampleamos ahora datos de Minnesota, que es similar a la de toda la población, pero no igual\n",
        "minnesota_ages <- c(\n",
        "    rexp(100,0.0085)+18,\n",
        "    rpois(50,15)+18,\n",
        "    rpois(50,25)+18,\n",
        "    rpois(50,35)+18\n",
        ")\n",
        "\n",
        "minnesota_ages <- ifelse(\n",
        "    minnesota_ages<100, minnesota_ages,\n",
        "    minnesota_ages%%100+18\n",
        ")\n",
        "\n",
        "print(\"Media para Minnesota\")\n",
        "mean(minnesota_ages)"
      ],
      "execution_count": null,
      "outputs": [
        {
          "name": "stdout",
          "text": "[1] \"Media real de toda la población:\"\n",
          "output_type": "stream"
        },
        {
          "data": {
            "text/html": "51.2188371860945",
            "text/markdown": "51.2188371860945",
            "text/latex": "51.2188371860945",
            "text/plain": "[1] 51.21884"
          },
          "metadata": {},
          "output_type": "display_data"
        },
        {
          "name": "stdout",
          "text": "[1] \"Media para Minnesota\"\n",
          "output_type": "stream"
        },
        {
          "data": {
            "text/html": "48.5588076689883",
            "text/markdown": "48.5588076689883",
            "text/latex": "48.5588076689883",
            "text/plain": "[1] 48.55881"
          },
          "metadata": {},
          "output_type": "display_data"
        }
      ]
    },
    {
      "cell_type": "markdown",
      "metadata": {
        "cell_id": "219ea56ca36d4be5b3147d9658fbd2fc",
        "deepnote_cell_type": "markdown",
        "id": "dBnO5hpqCmtr"
      },
      "source": [
        "### *t-test* de una sola muestra bilateral"
      ]
    },
    {
      "cell_type": "markdown",
      "metadata": {
        "cell_id": "ddf8641479d2482d8fbb2d279ce834ad",
        "deepnote_cell_type": "markdown",
        "id": "PaAFn7Z7Cmts"
      },
      "source": [
        "Note que utilizamos una combinación ligeramente diferente de distribuciones para generar los datos de muestra para Minnesota, por lo que sabemos que las dos medias son diferentes. Realizaremos un *t test* de nivel 95% para ver si rechaza correctamente el hecho de que la muestra proviene de la misma distribución que la población.\n",
        "\n",
        "Diremos que un test es bilateral si busca probar que dos medias son diferentes (se puede aplicar a otros parámetros, pero nos quedaremos con la media para esta tarea) y se plantea como sigue:\n",
        "\n",
        "$$H_0: \\mu = \\mu_0 \\text{ } \\text{ } \\text{v/s} \\text{ } \\text{ } H_1: \\mu \\neq \\mu_0$$\n",
        "\n",
        "Donde $H_0$ es la hipótesis nula y $H_1$ es la hipótesis alternativa."
      ]
    },
    {
      "cell_type": "markdown",
      "metadata": {
        "cell_id": "f7013a2492c64fc3823333f0d890f930",
        "deepnote_cell_type": "markdown",
        "id": "wGRh0t4CCmtv"
      },
      "source": [
        "**1.1 En base a lo anterior, ¿Cúal sería la hipótesis nula y cúal sería la hipótesis alternativa para el problema que busca resolver?**"
      ]
    },
    {
      "cell_type": "markdown",
      "metadata": {
        "cell_id": "aeb64827400943a4b7371f5392536d58",
        "deepnote_cell_type": "markdown",
        "id": "XzkMBshuCmty"
      },
      "source": [
        "**Solución:**"
      ]
    },
    {
      "cell_type": "markdown",
      "metadata": {
        "cell_id": "2b0daa6e49d04a5caa1ad54a5fc15ea4",
        "deepnote_cell_type": "markdown",
        "id": "oM0ArRGMCmtz"
      },
      "source": [
        "**1.2 Utilice la función t.test() nativa de R para hacer un *test* bilateral.**\n",
        "\n",
        "*Indicación: Con bilateral nos referimos a un test two sided. Puede buscar el uso de la función t.test en la documentación de R. Tomaremos a la media real (o mu para utilizar en la función t.test) como la true_mean que se definió más arriba.*"
      ]
    },
    {
      "cell_type": "code",
      "metadata": {
        "source_hash": null,
        "execution_start": 1696470218464,
        "execution_millis": 29,
        "deepnote_to_be_reexecuted": false,
        "cell_id": "4a8d8f0f273f4733b3590b4aa3f6e65f",
        "deepnote_cell_type": "code",
        "id": "M56pB_vFCmt2"
      },
      "source": [
        "# Solución"
      ],
      "execution_count": null,
      "outputs": []
    },
    {
      "cell_type": "markdown",
      "metadata": {
        "cell_id": "fa601ae4c73e47afbd5ee7ed32e58c5d",
        "deepnote_cell_type": "markdown",
        "id": "0fa3JKbvCmt2"
      },
      "source": [
        "*Nota: la hipótesis alternativa puede ser que la media de la muestra sea estrictamente menor, estrictamente mayor o no igual al parámetro de la población. Para la hipótesis \"no igual a\", utilizamos una prueba \"bilateral\" porque un resultado de prueba extremo en cualquier dirección sería evidencia de que la media de la muestra difiere significativamente de la media de la población.*"
      ]
    },
    {
      "cell_type": "markdown",
      "metadata": {
        "cell_id": "a66b4b9928e546a2b1b1aaaa42e8b8d5",
        "deepnote_cell_type": "markdown",
        "id": "OSB-V6mnCmt3"
      },
      "source": [
        "**1.3 El test de t, se hace en base a calcular un estádistico basado en una t-student. De la parte anterior notará que aparecen tres cantidades que serán relevantes:**\n",
        "\n",
        "* t: Es el estadístico de interés.\n",
        "* df: Grados de libertad estimados para la t-student.\n",
        "* p-value: Probabilidad de observar los resultados del estudio, y otros más alejados de la hipótesis nula, si la hipótesis nula fuera cierta.\n",
        "\n",
        "\n",
        "**Diremos que se rechazará la hipótesis nula en un test bilateral de nivel $(1-\\alpha)100$% si alguna de las siguientes ocurre:**\n",
        "\n",
        "1. El valor t encontrado antes no está entre el percentil $\\alpha/2$ y $1-\\alpha/2$ de una t-student de df (cantidad encontrada antes) grados de libertad.\n",
        "2. p-value < $\\alpha$.\n",
        "\n",
        "**Verifique ambas condiciones y concluya que se puede rechazar la hipótesis nula en el anterior test.**\n",
        "\n",
        "*Nota 1: Se puede probar que en realidad ambas condiciones son equivalentes, pero no utilizaremos eso en esta tarea.*\n",
        "*Nota 2: Para obtener los cuantiles de una t-student puede utilizar la función pt nativa de R.*\n",
        "*Nota 3: Cuando no se rechaza la hipótesis nula, ¡no significa que se acepte! En ese caso simplemente decimos que no rechazamos la hipótesis nula.*"
      ]
    },
    {
      "cell_type": "code",
      "metadata": {
        "source_hash": null,
        "execution_start": 1696470218471,
        "execution_millis": 29,
        "deepnote_to_be_reexecuted": false,
        "cell_id": "63b956e6bc484118ad838dc7a52a6c23",
        "deepnote_cell_type": "code",
        "id": "HoskbeFgCmt4"
      },
      "source": [
        "# Solución"
      ],
      "execution_count": null,
      "outputs": []
    },
    {
      "cell_type": "markdown",
      "metadata": {
        "cell_id": "5fa5f4ef2fb14d97b8e92cd3aaeeb6bf",
        "deepnote_cell_type": "markdown",
        "id": "WvWIbHzYCmt5"
      },
      "source": [
        "**1.4 Repita todo lo anterior pero ahora cambiando el nivel del test a 99%. Es decir, realice el test de hipótesis y corrobore ambas condiciones descritas antes para decidir si rechazar o no la hipótesis nula. Comente que es lo que ocurre en este caso.**"
      ]
    },
    {
      "cell_type": "code",
      "metadata": {
        "source_hash": null,
        "execution_start": 1696470218487,
        "execution_millis": 18,
        "deepnote_to_be_reexecuted": false,
        "cell_id": "cae74ecc5ef64a98a3a47f5fea468877",
        "deepnote_cell_type": "code",
        "id": "joT-U2EGCmt6"
      },
      "source": [
        "# Solución"
      ],
      "execution_count": null,
      "outputs": []
    },
    {
      "cell_type": "markdown",
      "metadata": {
        "cell_id": "c8004f44114e4361be175c1ba1394418",
        "deepnote_cell_type": "markdown",
        "id": "sChaC7oOCmt7"
      },
      "source": [
        "### 2. Aplicación a estimación de un parámetro vía redes neuronales"
      ]
    },
    {
      "cell_type": "markdown",
      "metadata": {
        "cell_id": "64cd737bb21043ce942be5d0b068b9ef",
        "deepnote_cell_type": "markdown",
        "id": "S5S89DfeCmt8"
      },
      "source": [
        "*Disclaimer inicial: usted no debe saber nada de redes neuronales para este inciso, es solo a manera de mostrar una aplicación a un tema atingente hoy en día. Ahora sigue mucho texto, pero notará al final que es repetir lo de la parte anterior.*\n",
        "\n",
        "Usted trabaja para una cierta investigación en donde buscan estimar una cierta densidad de probabilidad en $[0,1]$ mediante una red neuronal simple y es de altísimo interés el valor de $f(0.5)$, el valor de la densidad de probabilidad evaluada en $0.5$. Supondremos que la densidad de probabilidad buscada es continua y que no tenemos datos observados para la densidad de probabilidad en dicho punto, por tanto la red debe \"adivinar\" el valor de $f(0.5)$ en base a los datos dados para su entrenamiento.\n",
        "\n",
        "Lo único relevante para esta parte es que por parte del equipo se tiene la creencia de que $f(0.5) = 0.5$. Para poder darle rigurosidad, se plantea hacer un test de hipótesis. Esto no es relevante para esta tarea, pero durante los últimos años se le ha dado rigurosidad matemática la idea que sigue (por ejemplo en *Yarin Gal, Zoubin Ghahramani, Dropout as a Bayesian Approximation: Representing Model Uncertainty in Deep Learning*).\n",
        "\n",
        "Sean $y_1, \\dots, y_n$ las estimaciones de la red neuronal en $x=0.5$ en las últimas $n$ iteraciones de su entrenamiento. Entonces se tiene que si la cantidad de iteraciones previas es suficientemente grande, entonces\n",
        "\n",
        "$$ \\bar y \\sim N(f(0.5), \\sigma^2) $$\n",
        "\n",
        "con $\\sigma^2$ desconocido, pero no es relevante, lo de interés es que entonces las últimas iteraciones de entrenamiento, en promedio, deberían dar lo que se busca estimar. Es similar a decir que en las últimas iteraciones de entrenamiento la red neuronal oscila entorno al valor que busca aproximar."
      ]
    },
    {
      "cell_type": "markdown",
      "metadata": {
        "cell_id": "00bceaea0b8c416ea52315207ad3eb46",
        "deepnote_cell_type": "markdown",
        "id": "ilY_M3j5Cmt9"
      },
      "source": [
        "**2.1 Plantee el test de hipótesis que busca probar que la estimación de la red neuronal para $f(0.5)$ es $0.5$. Es decir, declare cúales son la hipótesis nula y la hipótesis alternativa.**\n",
        "\n",
        "*Indicación: vuelva a leer el planteamiento de los test de hipótesis para ver cúal debe ser la hipótesis nula y cúal debe ser la alternativa.*"
      ]
    },
    {
      "cell_type": "markdown",
      "metadata": {
        "cell_id": "ff9b1a1dfe234dba8ff4c4282ae059d7",
        "deepnote_cell_type": "markdown",
        "id": "pRWjKlYxCmt-"
      },
      "source": [
        "**Solución:**"
      ]
    },
    {
      "cell_type": "markdown",
      "metadata": {
        "cell_id": "9025ed164f2748f7b030ef9e69ae34f2",
        "deepnote_cell_type": "markdown",
        "id": "FBQWA9h3Cmt_"
      },
      "source": [
        "**2.2 Usted tiene las últimas 30 iteraciones de una red neuronal entrenada lo suficiente de manera previa (de forma que valga lo antes descrito). Repita el mismo procedimiento de la sección anterior para determinar si puede rechazar o no la hipótesis nula.**"
      ]
    },
    {
      "cell_type": "code",
      "metadata": {
        "source_hash": null,
        "execution_start": 1696470218527,
        "execution_millis": 57,
        "deepnote_to_be_reexecuted": false,
        "cell_id": "55918267664c4880b513c803ba42e9d2",
        "deepnote_cell_type": "code",
        "id": "fT_9BEgsCmt_"
      },
      "source": [
        "data <- read.csv(\"last_epochs.csv\")\n",
        "last_iterations <- data$x"
      ],
      "execution_count": null,
      "outputs": []
    },
    {
      "cell_type": "code",
      "metadata": {
        "source_hash": null,
        "execution_start": 1696470218627,
        "execution_millis": 12,
        "deepnote_to_be_reexecuted": false,
        "cell_id": "0048d7c639634543b8a49a6e4e478d03",
        "deepnote_cell_type": "code",
        "id": "5XUsKd6jCmuA"
      },
      "source": [
        "# Solución"
      ],
      "execution_count": null,
      "outputs": []
    },
    {
      "cell_type": "markdown",
      "source": [
        "<a style='text-decoration:none;line-height:16px;display:flex;color:#5B5B62;padding:10px;justify-content:end;' href='https://deepnote.com?utm_source=created-in-deepnote-cell&projectId=c6f986ec-9e66-400a-833c-32ff350ef670' target=\"_blank\">\n",
        "<img alt='Created in deepnote.com' style='display:inline;max-height:16px;margin:0px;margin-right:7.5px;' src='data:image/svg+xml;base64,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' > </img>\n",
        "Created in <span style='font-weight:600;margin-left:4px;'>Deepnote</span></a>"
      ],
      "metadata": {
        "created_in_deepnote_cell": true,
        "deepnote_cell_type": "markdown",
        "id": "9zKeanOlCmuB"
      }
    }
  ],
  "nbformat": 4,
  "nbformat_minor": 0,
  "metadata": {
    "deepnote_notebook_id": "9083dd5dfb394ae39420e929acb26f45",
    "deepnote_execution_queue": [],
    "colab": {
      "provenance": []
    }
  }
}